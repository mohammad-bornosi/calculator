{
  "nbformat": 4,
  "nbformat_minor": 0,
  "metadata": {
    "colab": {
      "name": "2.2 Matrix-Matrix Multiplication.ipynb",
      "provenance": [],
      "collapsed_sections": [],
      "authorship_tag": "ABX9TyN3lF9ly8LOM/TB+VYUpRSK",
      "include_colab_link": true
    },
    "kernelspec": {
      "name": "python3",
      "display_name": "Python 3"
    }
  },
  "cells": [
    {
      "cell_type": "markdown",
      "metadata": {
        "id": "view-in-github",
        "colab_type": "text"
      },
      "source": [
        "<a href=\"https://colab.research.google.com/github/mohammad-bornosi/calculator/blob/master/2_2_Matrix_Matrix_Multiplication.ipynb\" target=\"_parent\"><img src=\"https://colab.research.google.com/assets/colab-badge.svg\" alt=\"Open In Colab\"/></a>"
      ]
    },
    {
      "cell_type": "markdown",
      "metadata": {
        "id": "8qrPa-Q5eCpy",
        "colab_type": "text"
      },
      "source": [
        "# Matrix-Matrix Multiplication  \n",
        "Let A ∈ Rm×k and B ∈ Rk×n. The definition ofmatrix multiplication is:\n",
        "\n",
        "![alt text](https://drive.google.com/uc?id=15p9yCINZW3SLqsWYCp17EXPP76bdvrhA)\n",
        "# column_oriented(SAXPY):\n",
        "The matrix A is accessed by columns and B by scalars. This access pattern can be illustrated as:\n",
        "![alt text](https://drive.google.com/uc?id=1sD6dwKbnXHpr9KtGqbueipQ3zBUsIo31)\n",
        "\n",
        "![alt text](https://drive.google.com/uc?id=1ohX2FtxBrLmad2rHzOZMvtmKH7dE_YPY)\n",
        "# outer product: \n",
        "This can be illustrated as follows. Let a·k denote the column vectors of A and let bTk· denote the row vectors of B. Then matrix multiplication can be written as:\n",
        "![alt text](https://drive.google.com/uc?id=1OZ11-jYPS1MObRSWi8xDc5UJYZFTP8dw)\n",
        "\n",
        "the outerproduct follows the standard definition of matrix multiplication: let x and y be\n",
        "column vectors in Rm and Rn, respectively; then:\n",
        "![alt text](https://drive.google.com/uc?id=1EcxclWWW9GvsiDuTsjOju6xMWgC7azb6)\n",
        "# inner product:\n"
      ]
    },
    {
      "cell_type": "markdown",
      "metadata": {
        "id": "WkwJOkDtfnM4",
        "colab_type": "text"
      },
      "source": [
        ""
      ]
    }
  ]
}